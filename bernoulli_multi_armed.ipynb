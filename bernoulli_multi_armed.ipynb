{
 "cells": [
  {
   "cell_type": "code",
   "execution_count": 1,
   "metadata": {},
   "outputs": [],
   "source": [
    "import matplotlib.pyplot as plt\n",
    "import matplotlib as mpl\n",
    "\n",
    "import jax\n",
    "import jax.numpy as jnp\n",
    "\n",
    "from gymnax.environments import spaces\n",
    "from typing import Optional\n",
    "\n",
    "from experior.utils import PRNGSequence, moving_average\n",
    "from experior.envs import BayesStochasticBandit\n",
    "from experior.bandit_agents import (\n",
    "  make_thompson_sampling,\n",
    "  make_max_ent_thompson_sampling,\n",
    "  make_bernoulli_thompson_sampling,\n",
    "  LinearDiscreteRewardModel\n",
    ")\n",
    "from experior.experts import generate_optimal_trajectories\n",
    "\n",
    "import logging\n",
    "logging.basicConfig(\n",
    "    format='%(asctime)s %(levelname)-8s %(message)s',\n",
    "    level=logging.INFO,\n",
    "    datefmt='%Y-%m-%d %H:%M:%S')\n",
    "\n",
    "\n",
    "\n",
    "jax.config.update(\"jax_debug_nans\", True)\n",
    "%load_ext autoreload\n",
    "%autoreload 2\n"
   ]
  },
  {
   "cell_type": "code",
   "execution_count": 2,
   "metadata": {},
   "outputs": [
    {
     "name": "stdout",
     "output_type": "stream",
     "text": [
      "Wed Jan 24 22:13:38 2024       \n",
      "+-----------------------------------------------------------------------------+\n",
      "| NVIDIA-SMI 470.161.03   Driver Version: 470.161.03   CUDA Version: 11.4     |\n",
      "|-------------------------------+----------------------+----------------------+\n",
      "| GPU  Name        Persistence-M| Bus-Id        Disp.A | Volatile Uncorr. ECC |\n",
      "| Fan  Temp  Perf  Pwr:Usage/Cap|         Memory-Usage | GPU-Util  Compute M. |\n",
      "|                               |                      |               MIG M. |\n",
      "|===============================+======================+======================|\n",
      "|   0  NVIDIA A40          On   | 00000000:D8:00.0 Off |                    0 |\n",
      "|  0%   36C    P0    59W / 300W |      0MiB / 45634MiB |      0%      Default |\n",
      "|                               |                      |                  N/A |\n",
      "+-------------------------------+----------------------+----------------------+\n",
      "                                                                               \n",
      "+-----------------------------------------------------------------------------+\n",
      "| Processes:                                                                  |\n",
      "|  GPU   GI   CI        PID   Type   Process name                  GPU Memory |\n",
      "|        ID   ID                                                   Usage      |\n",
      "|=============================================================================|\n",
      "|  No running processes found                                                 |\n",
      "+-----------------------------------------------------------------------------+\n"
     ]
    }
   ],
   "source": [
    "! nvidia-smi"
   ]
  },
  {
   "cell_type": "markdown",
   "metadata": {},
   "source": [
    "## Hyperparameter Search - Thompson Sampling"
   ]
  },
  {
   "cell_type": "code",
   "execution_count": 14,
   "metadata": {},
   "outputs": [
    {
     "name": "stderr",
     "output_type": "stream",
     "text": [
      "2024-01-24 22:13:22 INFO     Unable to initialize backend 'rocm': NOT_FOUND: Could not find registered platform with name: \"rocm\". Available platform names are: Interpreter CUDA\n",
      "2024-01-24 22:13:22 INFO     Unable to initialize backend 'tpu': module 'jaxlib.xla_extension' has no attribute 'get_tpu_client'\n"
     ]
    },
    {
     "ename": "KeyboardInterrupt",
     "evalue": "",
     "output_type": "error",
     "traceback": [
      "\u001b[0;31m---------------------------------------------------------------------------\u001b[0m",
      "\u001b[0;31mKeyboardInterrupt\u001b[0m                         Traceback (most recent call last)",
      "Cell \u001b[0;32mIn[14], line 24\u001b[0m\n\u001b[1;32m     22\u001b[0m b_sizes \u001b[38;5;241m=\u001b[39m [\u001b[38;5;241m128\u001b[39m, \u001b[38;5;241m256\u001b[39m, \u001b[38;5;241m1024\u001b[39m]\n\u001b[1;32m     23\u001b[0m steps \u001b[38;5;241m=\u001b[39m [\u001b[38;5;241m1\u001b[39m, \u001b[38;5;241m5\u001b[39m, \u001b[38;5;241m10\u001b[39m, \u001b[38;5;241m20\u001b[39m]\n\u001b[0;32m---> 24\u001b[0m langevin_learning_rates \u001b[38;5;241m=\u001b[39m \u001b[43mjnp\u001b[49m\u001b[38;5;241;43m.\u001b[39;49m\u001b[43marray\u001b[49m\u001b[43m(\u001b[49m\u001b[43m[\u001b[49m\u001b[38;5;241;43m1e-1\u001b[39;49m\u001b[43m,\u001b[49m\u001b[43m \u001b[49m\u001b[38;5;241;43m1e-2\u001b[39;49m\u001b[43m,\u001b[49m\u001b[43m \u001b[49m\u001b[38;5;241;43m5e-2\u001b[39;49m\u001b[43m,\u001b[49m\u001b[43m \u001b[49m\u001b[38;5;241;43m1e-3\u001b[39;49m\u001b[43m]\u001b[49m\u001b[43m)\u001b[49m\n\u001b[1;32m     25\u001b[0m results \u001b[38;5;241m=\u001b[39m jnp\u001b[38;5;241m.\u001b[39mzeros((\u001b[38;5;28mlen\u001b[39m(b_sizes), \u001b[38;5;28mlen\u001b[39m(steps), langevin_learning_rates\u001b[38;5;241m.\u001b[39mshape[\u001b[38;5;241m0\u001b[39m]))\n\u001b[1;32m     27\u001b[0m \u001b[38;5;28;01mfor\u001b[39;00m i, b_size \u001b[38;5;129;01min\u001b[39;00m \u001b[38;5;28menumerate\u001b[39m(b_sizes):\n",
      "File \u001b[0;32m~/.jax_env/lib/python3.9/site-packages/jax/_src/numpy/lax_numpy.py:2070\u001b[0m, in \u001b[0;36marray\u001b[0;34m(object, dtype, copy, order, ndmin)\u001b[0m\n\u001b[1;32m   2066\u001b[0m     \u001b[38;5;28;01mreturn\u001b[39;00m array(np\u001b[38;5;241m.\u001b[39masarray(view), dtype, copy, ndmin\u001b[38;5;241m=\u001b[39mndmin)\n\u001b[1;32m   2068\u001b[0m   \u001b[38;5;28;01mraise\u001b[39;00m \u001b[38;5;167;01mTypeError\u001b[39;00m(\u001b[38;5;124mf\u001b[39m\u001b[38;5;124m\"\u001b[39m\u001b[38;5;124mUnexpected input type for array: \u001b[39m\u001b[38;5;132;01m{\u001b[39;00m\u001b[38;5;28mtype\u001b[39m(\u001b[38;5;28mobject\u001b[39m)\u001b[38;5;132;01m}\u001b[39;00m\u001b[38;5;124m\"\u001b[39m)\n\u001b[0;32m-> 2070\u001b[0m out_array: Array \u001b[38;5;241m=\u001b[39m \u001b[43mlax_internal\u001b[49m\u001b[38;5;241;43m.\u001b[39;49m\u001b[43m_convert_element_type\u001b[49m\u001b[43m(\u001b[49m\u001b[43mout\u001b[49m\u001b[43m,\u001b[49m\u001b[43m \u001b[49m\u001b[43mdtype\u001b[49m\u001b[43m,\u001b[49m\u001b[43m \u001b[49m\u001b[43mweak_type\u001b[49m\u001b[38;5;241;43m=\u001b[39;49m\u001b[43mweak_type\u001b[49m\u001b[43m)\u001b[49m\n\u001b[1;32m   2071\u001b[0m \u001b[38;5;28;01mif\u001b[39;00m ndmin \u001b[38;5;241m>\u001b[39m ndim(out_array):\n\u001b[1;32m   2072\u001b[0m   out_array \u001b[38;5;241m=\u001b[39m lax\u001b[38;5;241m.\u001b[39mexpand_dims(out_array, \u001b[38;5;28mrange\u001b[39m(ndmin \u001b[38;5;241m-\u001b[39m ndim(out_array)))\n",
      "File \u001b[0;32m~/.jax_env/lib/python3.9/site-packages/jax/_src/lax/lax.py:553\u001b[0m, in \u001b[0;36m_convert_element_type\u001b[0;34m(operand, new_dtype, weak_type)\u001b[0m\n\u001b[1;32m    551\u001b[0m   \u001b[38;5;28;01mreturn\u001b[39;00m type_cast(Array, operand)\n\u001b[1;32m    552\u001b[0m \u001b[38;5;28;01melse\u001b[39;00m:\n\u001b[0;32m--> 553\u001b[0m   \u001b[38;5;28;01mreturn\u001b[39;00m \u001b[43mconvert_element_type_p\u001b[49m\u001b[38;5;241;43m.\u001b[39;49m\u001b[43mbind\u001b[49m\u001b[43m(\u001b[49m\u001b[43moperand\u001b[49m\u001b[43m,\u001b[49m\u001b[43m \u001b[49m\u001b[43mnew_dtype\u001b[49m\u001b[38;5;241;43m=\u001b[39;49m\u001b[43mnew_dtype\u001b[49m\u001b[43m,\u001b[49m\n\u001b[1;32m    554\u001b[0m \u001b[43m                                     \u001b[49m\u001b[43mweak_type\u001b[49m\u001b[38;5;241;43m=\u001b[39;49m\u001b[38;5;28;43mbool\u001b[39;49m\u001b[43m(\u001b[49m\u001b[43mweak_type\u001b[49m\u001b[43m)\u001b[49m\u001b[43m)\u001b[49m\n",
      "File \u001b[0;32m~/.jax_env/lib/python3.9/site-packages/jax/_src/core.py:386\u001b[0m, in \u001b[0;36mPrimitive.bind\u001b[0;34m(self, *args, **params)\u001b[0m\n\u001b[1;32m    383\u001b[0m \u001b[38;5;28;01mdef\u001b[39;00m \u001b[38;5;21mbind\u001b[39m(\u001b[38;5;28mself\u001b[39m, \u001b[38;5;241m*\u001b[39margs, \u001b[38;5;241m*\u001b[39m\u001b[38;5;241m*\u001b[39mparams):\n\u001b[1;32m    384\u001b[0m   \u001b[38;5;28;01massert\u001b[39;00m (\u001b[38;5;129;01mnot\u001b[39;00m config\u001b[38;5;241m.\u001b[39mjax_enable_checks \u001b[38;5;129;01mor\u001b[39;00m\n\u001b[1;32m    385\u001b[0m           \u001b[38;5;28mall\u001b[39m(\u001b[38;5;28misinstance\u001b[39m(arg, Tracer) \u001b[38;5;129;01mor\u001b[39;00m valid_jaxtype(arg) \u001b[38;5;28;01mfor\u001b[39;00m arg \u001b[38;5;129;01min\u001b[39;00m args)), args\n\u001b[0;32m--> 386\u001b[0m   \u001b[38;5;28;01mreturn\u001b[39;00m \u001b[38;5;28;43mself\u001b[39;49m\u001b[38;5;241;43m.\u001b[39;49m\u001b[43mbind_with_trace\u001b[49m\u001b[43m(\u001b[49m\u001b[43mfind_top_trace\u001b[49m\u001b[43m(\u001b[49m\u001b[43margs\u001b[49m\u001b[43m)\u001b[49m\u001b[43m,\u001b[49m\u001b[43m \u001b[49m\u001b[43margs\u001b[49m\u001b[43m,\u001b[49m\u001b[43m \u001b[49m\u001b[43mparams\u001b[49m\u001b[43m)\u001b[49m\n",
      "File \u001b[0;32m~/.jax_env/lib/python3.9/site-packages/jax/_src/core.py:389\u001b[0m, in \u001b[0;36mPrimitive.bind_with_trace\u001b[0;34m(self, trace, args, params)\u001b[0m\n\u001b[1;32m    388\u001b[0m \u001b[38;5;28;01mdef\u001b[39;00m \u001b[38;5;21mbind_with_trace\u001b[39m(\u001b[38;5;28mself\u001b[39m, trace, args, params):\n\u001b[0;32m--> 389\u001b[0m   out \u001b[38;5;241m=\u001b[39m \u001b[43mtrace\u001b[49m\u001b[38;5;241;43m.\u001b[39;49m\u001b[43mprocess_primitive\u001b[49m\u001b[43m(\u001b[49m\u001b[38;5;28;43mself\u001b[39;49m\u001b[43m,\u001b[49m\u001b[43m \u001b[49m\u001b[38;5;28;43mmap\u001b[39;49m\u001b[43m(\u001b[49m\u001b[43mtrace\u001b[49m\u001b[38;5;241;43m.\u001b[39;49m\u001b[43mfull_raise\u001b[49m\u001b[43m,\u001b[49m\u001b[43m \u001b[49m\u001b[43margs\u001b[49m\u001b[43m)\u001b[49m\u001b[43m,\u001b[49m\u001b[43m \u001b[49m\u001b[43mparams\u001b[49m\u001b[43m)\u001b[49m\n\u001b[1;32m    390\u001b[0m   \u001b[38;5;28;01mreturn\u001b[39;00m \u001b[38;5;28mmap\u001b[39m(full_lower, out) \u001b[38;5;28;01mif\u001b[39;00m \u001b[38;5;28mself\u001b[39m\u001b[38;5;241m.\u001b[39mmultiple_results \u001b[38;5;28;01melse\u001b[39;00m full_lower(out)\n",
      "File \u001b[0;32m~/.jax_env/lib/python3.9/site-packages/jax/_src/core.py:821\u001b[0m, in \u001b[0;36mEvalTrace.process_primitive\u001b[0;34m(self, primitive, tracers, params)\u001b[0m\n\u001b[1;32m    820\u001b[0m \u001b[38;5;28;01mdef\u001b[39;00m \u001b[38;5;21mprocess_primitive\u001b[39m(\u001b[38;5;28mself\u001b[39m, primitive, tracers, params):\n\u001b[0;32m--> 821\u001b[0m   \u001b[38;5;28;01mreturn\u001b[39;00m \u001b[43mprimitive\u001b[49m\u001b[38;5;241;43m.\u001b[39;49m\u001b[43mimpl\u001b[49m\u001b[43m(\u001b[49m\u001b[38;5;241;43m*\u001b[39;49m\u001b[43mtracers\u001b[49m\u001b[43m,\u001b[49m\u001b[43m \u001b[49m\u001b[38;5;241;43m*\u001b[39;49m\u001b[38;5;241;43m*\u001b[39;49m\u001b[43mparams\u001b[49m\u001b[43m)\u001b[49m\n",
      "File \u001b[0;32m~/.jax_env/lib/python3.9/site-packages/jax/_src/dispatch.py:143\u001b[0m, in \u001b[0;36mapply_primitive\u001b[0;34m(prim, *args, **params)\u001b[0m\n\u001b[1;32m    139\u001b[0m   msg \u001b[38;5;241m=\u001b[39m pjit\u001b[38;5;241m.\u001b[39m_device_assignment_mismatch_error(\n\u001b[1;32m    140\u001b[0m       prim\u001b[38;5;241m.\u001b[39mname, fails, args, \u001b[38;5;124m'\u001b[39m\u001b[38;5;124mjit\u001b[39m\u001b[38;5;124m'\u001b[39m, arg_names)\n\u001b[1;32m    141\u001b[0m   \u001b[38;5;28;01mraise\u001b[39;00m \u001b[38;5;167;01mValueError\u001b[39;00m(msg) \u001b[38;5;28;01mfrom\u001b[39;00m \u001b[38;5;28mNone\u001b[39m\n\u001b[0;32m--> 143\u001b[0m \u001b[38;5;28;01mreturn\u001b[39;00m \u001b[43mcompiled_fun\u001b[49m\u001b[43m(\u001b[49m\u001b[38;5;241;43m*\u001b[39;49m\u001b[43margs\u001b[49m\u001b[43m)\u001b[49m\n",
      "File \u001b[0;32m~/.jax_env/lib/python3.9/site-packages/jax/_src/dispatch.py:226\u001b[0m, in \u001b[0;36mxla_primitive_callable.<locals>.<lambda>\u001b[0;34m(*args, **kw)\u001b[0m\n\u001b[1;32m    222\u001b[0m compiled \u001b[38;5;241m=\u001b[39m _xla_callable_uncached(\n\u001b[1;32m    223\u001b[0m     lu\u001b[38;5;241m.\u001b[39mwrap_init(prim_fun), prim\u001b[38;5;241m.\u001b[39mname, donated_invars, \u001b[38;5;28;01mFalse\u001b[39;00m, in_avals,\n\u001b[1;32m    224\u001b[0m     orig_in_shardings)\n\u001b[1;32m    225\u001b[0m \u001b[38;5;28;01mif\u001b[39;00m \u001b[38;5;129;01mnot\u001b[39;00m prim\u001b[38;5;241m.\u001b[39mmultiple_results:\n\u001b[0;32m--> 226\u001b[0m   \u001b[38;5;28;01mreturn\u001b[39;00m \u001b[38;5;28;01mlambda\u001b[39;00m \u001b[38;5;241m*\u001b[39margs, \u001b[38;5;241m*\u001b[39m\u001b[38;5;241m*\u001b[39mkw: \u001b[43mcompiled\u001b[49m\u001b[43m(\u001b[49m\u001b[38;5;241;43m*\u001b[39;49m\u001b[43margs\u001b[49m\u001b[43m,\u001b[49m\u001b[43m \u001b[49m\u001b[38;5;241;43m*\u001b[39;49m\u001b[38;5;241;43m*\u001b[39;49m\u001b[43mkw\u001b[49m\u001b[43m)\u001b[49m[\u001b[38;5;241m0\u001b[39m]\n\u001b[1;32m    227\u001b[0m \u001b[38;5;28;01melse\u001b[39;00m:\n\u001b[1;32m    228\u001b[0m   \u001b[38;5;28;01mreturn\u001b[39;00m compiled\n",
      "File \u001b[0;32m~/.jax_env/lib/python3.9/site-packages/jax/_src/interpreters/pxla.py:2823\u001b[0m, in \u001b[0;36m_execute_trivial\u001b[0;34m(jaxpr, consts, in_handler, out_handler, kept_var_idx, *args)\u001b[0m\n\u001b[1;32m   2820\u001b[0m \u001b[38;5;28mmap\u001b[39m(env\u001b[38;5;241m.\u001b[39msetdefault, jaxpr\u001b[38;5;241m.\u001b[39mconstvars, consts)\n\u001b[1;32m   2821\u001b[0m outs \u001b[38;5;241m=\u001b[39m [xla\u001b[38;5;241m.\u001b[39mcanonicalize_dtype(v\u001b[38;5;241m.\u001b[39mval) \u001b[38;5;28;01mif\u001b[39;00m \u001b[38;5;28mtype\u001b[39m(v) \u001b[38;5;129;01mis\u001b[39;00m core\u001b[38;5;241m.\u001b[39mLiteral \u001b[38;5;28;01melse\u001b[39;00m env[v]\n\u001b[1;32m   2822\u001b[0m         \u001b[38;5;28;01mfor\u001b[39;00m v \u001b[38;5;129;01min\u001b[39;00m jaxpr\u001b[38;5;241m.\u001b[39moutvars]\n\u001b[0;32m-> 2823\u001b[0m \u001b[38;5;28;01mreturn\u001b[39;00m out_handler(\u001b[43min_handler\u001b[49m\u001b[43m(\u001b[49m\u001b[43mouts\u001b[49m\u001b[43m)\u001b[49m)\n",
      "File \u001b[0;32m~/.jax_env/lib/python3.9/site-packages/jax/_src/interpreters/pxla.py:1061\u001b[0m, in \u001b[0;36mInputsHandler.__call__\u001b[0;34m(self, input_buffers)\u001b[0m\n\u001b[1;32m   1060\u001b[0m \u001b[38;5;28;01mdef\u001b[39;00m \u001b[38;5;21m__call__\u001b[39m(\u001b[38;5;28mself\u001b[39m, input_buffers):\n\u001b[0;32m-> 1061\u001b[0m   \u001b[38;5;28;01mreturn\u001b[39;00m \u001b[38;5;28;43mself\u001b[39;49m\u001b[38;5;241;43m.\u001b[39;49m\u001b[43mhandler\u001b[49m\u001b[43m(\u001b[49m\u001b[43minput_buffers\u001b[49m\u001b[43m)\u001b[49m\n",
      "File \u001b[0;32m~/.jax_env/lib/python3.9/site-packages/jax/_src/profiler.py:314\u001b[0m, in \u001b[0;36mannotate_function.<locals>.wrapper\u001b[0;34m(*args, **kwargs)\u001b[0m\n\u001b[1;32m    311\u001b[0m \u001b[38;5;129m@wraps\u001b[39m(func)\n\u001b[1;32m    312\u001b[0m \u001b[38;5;28;01mdef\u001b[39;00m \u001b[38;5;21mwrapper\u001b[39m(\u001b[38;5;241m*\u001b[39margs, \u001b[38;5;241m*\u001b[39m\u001b[38;5;241m*\u001b[39mkwargs):\n\u001b[1;32m    313\u001b[0m   \u001b[38;5;28;01mwith\u001b[39;00m TraceAnnotation(name, \u001b[38;5;241m*\u001b[39m\u001b[38;5;241m*\u001b[39mdecorator_kwargs):\n\u001b[0;32m--> 314\u001b[0m     \u001b[38;5;28;01mreturn\u001b[39;00m \u001b[43mfunc\u001b[49m\u001b[43m(\u001b[49m\u001b[38;5;241;43m*\u001b[39;49m\u001b[43margs\u001b[49m\u001b[43m,\u001b[49m\u001b[43m \u001b[49m\u001b[38;5;241;43m*\u001b[39;49m\u001b[38;5;241;43m*\u001b[39;49m\u001b[43mkwargs\u001b[49m\u001b[43m)\u001b[49m\n\u001b[1;32m    315\u001b[0m   \u001b[38;5;28;01mreturn\u001b[39;00m wrapper\n",
      "File \u001b[0;32m~/.jax_env/lib/python3.9/site-packages/jax/_src/interpreters/pxla.py:142\u001b[0m, in \u001b[0;36mshard_args\u001b[0;34m(devices, indices, shardings, args)\u001b[0m\n\u001b[1;32m    121\u001b[0m \u001b[38;5;129m@profiler\u001b[39m\u001b[38;5;241m.\u001b[39mannotate_function\n\u001b[1;32m    122\u001b[0m \u001b[38;5;28;01mdef\u001b[39;00m \u001b[38;5;21mshard_args\u001b[39m(\n\u001b[1;32m    123\u001b[0m     devices: Sequence[xb\u001b[38;5;241m.\u001b[39mxla_client\u001b[38;5;241m.\u001b[39mDevice],\n\u001b[0;32m   (...)\u001b[0m\n\u001b[1;32m    126\u001b[0m     args,\n\u001b[1;32m    127\u001b[0m ) \u001b[38;5;241m-\u001b[39m\u001b[38;5;241m>\u001b[39m Sequence[jax\u001b[38;5;241m.\u001b[39mArray]:\n\u001b[1;32m    128\u001b[0m \u001b[38;5;250m  \u001b[39m\u001b[38;5;124;03m\"\"\"Shard each argument data array along its leading axis.\u001b[39;00m\n\u001b[1;32m    129\u001b[0m \n\u001b[1;32m    130\u001b[0m \u001b[38;5;124;03m  Args:\u001b[39;00m\n\u001b[0;32m   (...)\u001b[0m\n\u001b[1;32m    140\u001b[0m \u001b[38;5;124;03m    for each argument.\u001b[39;00m\n\u001b[1;32m    141\u001b[0m \u001b[38;5;124;03m  \"\"\"\u001b[39;00m\n\u001b[0;32m--> 142\u001b[0m   \u001b[38;5;28;01mreturn\u001b[39;00m [shard_arg(arg, devices, indices[i], shardings[i])\n\u001b[1;32m    143\u001b[0m           \u001b[38;5;28;01mfor\u001b[39;00m i, arg \u001b[38;5;129;01min\u001b[39;00m \u001b[38;5;28menumerate\u001b[39m(args)]\n",
      "File \u001b[0;32m~/.jax_env/lib/python3.9/site-packages/jax/_src/interpreters/pxla.py:142\u001b[0m, in \u001b[0;36m<listcomp>\u001b[0;34m(.0)\u001b[0m\n\u001b[1;32m    121\u001b[0m \u001b[38;5;129m@profiler\u001b[39m\u001b[38;5;241m.\u001b[39mannotate_function\n\u001b[1;32m    122\u001b[0m \u001b[38;5;28;01mdef\u001b[39;00m \u001b[38;5;21mshard_args\u001b[39m(\n\u001b[1;32m    123\u001b[0m     devices: Sequence[xb\u001b[38;5;241m.\u001b[39mxla_client\u001b[38;5;241m.\u001b[39mDevice],\n\u001b[0;32m   (...)\u001b[0m\n\u001b[1;32m    126\u001b[0m     args,\n\u001b[1;32m    127\u001b[0m ) \u001b[38;5;241m-\u001b[39m\u001b[38;5;241m>\u001b[39m Sequence[jax\u001b[38;5;241m.\u001b[39mArray]:\n\u001b[1;32m    128\u001b[0m \u001b[38;5;250m  \u001b[39m\u001b[38;5;124;03m\"\"\"Shard each argument data array along its leading axis.\u001b[39;00m\n\u001b[1;32m    129\u001b[0m \n\u001b[1;32m    130\u001b[0m \u001b[38;5;124;03m  Args:\u001b[39;00m\n\u001b[0;32m   (...)\u001b[0m\n\u001b[1;32m    140\u001b[0m \u001b[38;5;124;03m    for each argument.\u001b[39;00m\n\u001b[1;32m    141\u001b[0m \u001b[38;5;124;03m  \"\"\"\u001b[39;00m\n\u001b[0;32m--> 142\u001b[0m   \u001b[38;5;28;01mreturn\u001b[39;00m [\u001b[43mshard_arg\u001b[49m\u001b[43m(\u001b[49m\u001b[43marg\u001b[49m\u001b[43m,\u001b[49m\u001b[43m \u001b[49m\u001b[43mdevices\u001b[49m\u001b[43m,\u001b[49m\u001b[43m \u001b[49m\u001b[43mindices\u001b[49m\u001b[43m[\u001b[49m\u001b[43mi\u001b[49m\u001b[43m]\u001b[49m\u001b[43m,\u001b[49m\u001b[43m \u001b[49m\u001b[43mshardings\u001b[49m\u001b[43m[\u001b[49m\u001b[43mi\u001b[49m\u001b[43m]\u001b[49m\u001b[43m)\u001b[49m\n\u001b[1;32m    143\u001b[0m           \u001b[38;5;28;01mfor\u001b[39;00m i, arg \u001b[38;5;129;01min\u001b[39;00m \u001b[38;5;28menumerate\u001b[39m(args)]\n",
      "File \u001b[0;32m~/.jax_env/lib/python3.9/site-packages/jax/_src/interpreters/pxla.py:118\u001b[0m, in \u001b[0;36mshard_arg\u001b[0;34m(arg, devices, arg_indices, sharding, canonicalize)\u001b[0m\n\u001b[1;32m    116\u001b[0m \u001b[38;5;28;01mif\u001b[39;00m canonicalize:\n\u001b[1;32m    117\u001b[0m   arg \u001b[38;5;241m=\u001b[39m xla\u001b[38;5;241m.\u001b[39mcanonicalize_dtype(arg)\n\u001b[0;32m--> 118\u001b[0m \u001b[38;5;28;01mreturn\u001b[39;00m \u001b[43mshard_arg_handlers\u001b[49m\u001b[43m[\u001b[49m\u001b[38;5;28;43mtype\u001b[39;49m\u001b[43m(\u001b[49m\u001b[43marg\u001b[49m\u001b[43m)\u001b[49m\u001b[43m]\u001b[49m\u001b[43m(\u001b[49m\u001b[43marg\u001b[49m\u001b[43m,\u001b[49m\u001b[43m \u001b[49m\u001b[43mdevices\u001b[49m\u001b[43m,\u001b[49m\u001b[43m \u001b[49m\u001b[43marg_indices\u001b[49m\u001b[43m,\u001b[49m\u001b[43m \u001b[49m\u001b[43msharding\u001b[49m\u001b[43m)\u001b[49m\n",
      "File \u001b[0;32m~/.jax_env/lib/python3.9/site-packages/jax/_src/interpreters/pxla.py:163\u001b[0m, in \u001b[0;36m_shard_array\u001b[0;34m(x, devices, indices, sharding)\u001b[0m\n\u001b[1;32m    161\u001b[0m   x \u001b[38;5;241m=\u001b[39m np\u001b[38;5;241m.\u001b[39mzeros(x\u001b[38;5;241m.\u001b[39mshape, dtype\u001b[38;5;241m=\u001b[39mnp\u001b[38;5;241m.\u001b[39mdtype(\u001b[38;5;28mbool\u001b[39m))\n\u001b[1;32m    162\u001b[0m aval \u001b[38;5;241m=\u001b[39m api_util\u001b[38;5;241m.\u001b[39mshaped_abstractify(x)\n\u001b[0;32m--> 163\u001b[0m out \u001b[38;5;241m=\u001b[39m \u001b[43mbatched_device_put\u001b[49m\u001b[43m(\u001b[49m\u001b[43maval\u001b[49m\u001b[43m,\u001b[49m\u001b[43m \u001b[49m\u001b[43msharding\u001b[49m\u001b[43m,\u001b[49m\u001b[43m \u001b[49m\u001b[43m[\u001b[49m\u001b[43mx\u001b[49m\u001b[43m[\u001b[49m\u001b[43mi\u001b[49m\u001b[43m]\u001b[49m\u001b[43m \u001b[49m\u001b[38;5;28;43;01mfor\u001b[39;49;00m\u001b[43m \u001b[49m\u001b[43mi\u001b[49m\u001b[43m \u001b[49m\u001b[38;5;129;43;01min\u001b[39;49;00m\u001b[43m \u001b[49m\u001b[43mindices\u001b[49m\u001b[43m]\u001b[49m\u001b[43m,\u001b[49m\u001b[43m \u001b[49m\u001b[43mdevices\u001b[49m\u001b[43m)\u001b[49m\n\u001b[1;32m    164\u001b[0m \u001b[38;5;28;01mreturn\u001b[39;00m out\n",
      "File \u001b[0;32m~/.jax_env/lib/python3.9/site-packages/jax/_src/interpreters/pxla.py:184\u001b[0m, in \u001b[0;36mbatched_device_put\u001b[0;34m(aval, sharding, xs, devices, committed)\u001b[0m\n\u001b[1;32m    181\u001b[0m \u001b[38;5;28;01mif\u001b[39;00m \u001b[38;5;28mlen\u001b[39m(bufs) \u001b[38;5;241m==\u001b[39m \u001b[38;5;28mlen\u001b[39m(xs):\n\u001b[1;32m    182\u001b[0m   \u001b[38;5;28;01mreturn\u001b[39;00m array\u001b[38;5;241m.\u001b[39mArrayImpl(\n\u001b[1;32m    183\u001b[0m       aval, sharding, bufs, committed\u001b[38;5;241m=\u001b[39mcommitted, _skip_checks\u001b[38;5;241m=\u001b[39m\u001b[38;5;28;01mTrue\u001b[39;00m)\n\u001b[0;32m--> 184\u001b[0m \u001b[38;5;28;01mreturn\u001b[39;00m \u001b[43mxc\u001b[49m\u001b[38;5;241;43m.\u001b[39;49m\u001b[43mbatched_device_put\u001b[49m\u001b[43m(\u001b[49m\u001b[43maval\u001b[49m\u001b[43m,\u001b[49m\u001b[43m \u001b[49m\u001b[43msharding\u001b[49m\u001b[43m,\u001b[49m\u001b[43m \u001b[49m\u001b[43mxs\u001b[49m\u001b[43m,\u001b[49m\u001b[43m \u001b[49m\u001b[43mdevices\u001b[49m\u001b[43m,\u001b[49m\u001b[43m \u001b[49m\u001b[43mcommitted\u001b[49m\u001b[43m)\u001b[49m\n",
      "\u001b[0;31mKeyboardInterrupt\u001b[0m: "
     ]
    }
   ],
   "source": [
    "NUM_ACTIONS = 5\n",
    "NUM_STEPS = 1024\n",
    "NUM_ENVS = 50\n",
    "SEED = 42\n",
    "\n",
    "# bernoulli bandit setup\n",
    "action_space = spaces.Discrete(NUM_ACTIONS)\n",
    "prior_function = jax.tree_util.Partial(lambda key, _: jax.random.uniform(key, shape=(NUM_ACTIONS,))) # uniform prior\n",
    "reward_dist_fn = jax.tree_util.Partial(lambda key, means, _, action: jax.random.bernoulli(key, means[action]).astype(jnp.float32))\n",
    "best_action_value_fn = jax.tree_util.Partial(lambda means, _: (means.argmax(), means.max()))\n",
    "reward_mean_fn = jax.tree_util.Partial(lambda means, _, action: means[action])\n",
    "mutli_armed_bandit = BayesStochasticBandit(action_space, prior_function, reward_dist_fn, reward_mean_fn, best_action_value_fn)\n",
    "\n",
    "# search over langevin learning rate, batch size, and updates per step\n",
    "feature_fn = jax.tree_util.Partial(lambda obs, action: jax.nn.one_hot(action, NUM_ACTIONS))\n",
    "\n",
    "reward_model = LinearDiscreteRewardModel(n_actions=NUM_ACTIONS,\n",
    "                                        params_dim=NUM_ACTIONS,\n",
    "                                        feature_fn=feature_fn,\n",
    "                                        dist=\"bernoulli\")\n",
    "\n",
    "b_sizes = [128, 256, 1024]\n",
    "steps = [1, 5, 10, 20]\n",
    "langevin_learning_rates = jnp.array([1e-1, 1e-2, 5e-2, 1e-3])\n",
    "results = jnp.zeros((len(b_sizes), len(steps), langevin_learning_rates.shape[0]))\n",
    "\n",
    "for i, b_size in enumerate(b_sizes):\n",
    "  for j, update_per_step in enumerate(steps):\n",
    "      ts_train = make_thompson_sampling(env=mutli_armed_bandit,\n",
    "                                        reward_model=reward_model,\n",
    "                                        num_envs=NUM_ENVS,\n",
    "                                        total_steps=NUM_STEPS,\n",
    "                                        langevin_batch_size=b_size,\n",
    "                                        langevin_updates_per_step=update_per_step,)\n",
    "\n",
    "      rngs = jax.random.split(jax.random.PRNGKey(SEED), 5)\n",
    "      jit_train_ts_hyper = jax.vmap(jax.vmap(jax.jit(ts_train),in_axes=(None, 0)),in_axes=(0, None))\n",
    "\n",
    "      state, hyper_metrics = jit_train_ts_hyper(rngs, langevin_learning_rates) # shape: (n_rngs, n_lrs, n_steps, n_envs, ...)\n",
    "      bayes_regret = (hyper_metrics['optimal_value'] - hyper_metrics['reward_mean']).mean(axis=-1).sum(axis=-1).mean(axis=0) # shape: (n_lrs,)\n",
    "      results = results.at[i, j, :].set(bayes_regret)\n",
    "      logging.info(f\"batch size: {b_size}, updates per step: {update_per_step} done!\")"
   ]
  },
  {
   "cell_type": "code",
   "execution_count": null,
   "metadata": {},
   "outputs": [
    {
     "data": {
      "image/png": "[encoded data removed]",
      "text/plain": [
       "<Figure size 1500x300 with 6 Axes>"
      ]
     },
     "metadata": {},
     "output_type": "display_data"
    }
   ],
   "source": [
    "# plot results based on batch size, updates per step, and langevin learning rate\n",
    "fig, axes = plt.subplots(1, 3, figsize=(15, 3))\n",
    "ax = axes[0]\n",
    "ax.set_ylabel(\"Batch Size\")\n",
    "ax.set_xlabel(\"Langevin Learning Rate\")\n",
    "ax.set_xticks(range(len(langevin_learning_rates)))\n",
    "ax.set_xticklabels(langevin_learning_rates)\n",
    "ax.set_yticks(range(len(b_sizes)))\n",
    "ax.set_yticklabels(b_sizes)\n",
    "# ax.imshow(results.mean(axis=1), cmap='hot', interpolation='nearest')\n",
    "# # add legend\n",
    "cbar = ax.figure.colorbar(ax.imshow(results.mean(axis=1), cmap='hot', interpolation='nearest'))\n",
    "\n",
    "ax = axes[1]\n",
    "ax.set_title(\"Bayes Regret\")\n",
    "ax.set_xlabel(\"Langevin Steps\")\n",
    "ax.set_xticks(range(len(steps)))\n",
    "ax.set_xticklabels(steps)\n",
    "ax.set_yticks(range(len(b_sizes)))\n",
    "ax.set_yticklabels(b_sizes)\n",
    "# # add legend\n",
    "cbar = ax.figure.colorbar(ax.imshow(results.mean(axis=2), cmap='hot', interpolation='nearest'))\n",
    "\n",
    "ax = axes[2]\n",
    "ax.set_ylabel(\"Langevin Learning Rate\")\n",
    "ax.set_xlabel(\"Langevin Steps\")\n",
    "ax.set_xticks(range(len(steps)))\n",
    "ax.set_xticklabels(steps)\n",
    "ax.set_yticks(range(len(langevin_learning_rates)))\n",
    "ax.set_yticklabels(langevin_learning_rates)\n",
    "# # add legend\n",
    "cbar = ax.figure.colorbar(ax.imshow(results.mean(axis=0), cmap='hot', interpolation='nearest'))\n",
    "\n",
    "plt.show()"
   ]
  },
  {
   "cell_type": "code",
   "execution_count": null,
   "metadata": {},
   "outputs": [
    {
     "name": "stderr",
     "output_type": "stream",
     "text": [
      "2024-01-24 20:44:02 INFO     Best hyperparameters: batch: 1024, langevin steps: 5, learning rate: 0.05000000074505806, regret: 26.98626136779785\n"
     ]
    }
   ],
   "source": [
    "indices = jnp.where(results == results.min())\n",
    "logging.info(f\"Best hyperparameters: batch: {b_sizes[indices[0][0]]}, langevin steps: {steps[indices[1][0]]}, learning rate: {langevin_learning_rates[indices[2][0]]}, regret: {results.min()}\")"
   ]
  },
  {
   "cell_type": "markdown",
   "metadata": {},
   "source": [
    "## Hyerparameter Search - Max Entropy Thompson Sampling"
   ]
  },
  {
   "cell_type": "code",
   "execution_count": null,
   "metadata": {},
   "outputs": [],
   "source": [
    "NUM_ACTIONS = 5\n",
    "NUM_STEPS = 1024\n",
    "NUM_ENVS = 50\n",
    "B_SIZE = 1024\n",
    "UPDATES_PER_STEP = 5\n",
    "\n",
    "MAX_ENT_LR = 1e-2\n",
    "MAX_ENT_STEPS = 1000\n",
    "MAX_ENT_SAMPLES = 1024\n",
    "MAX_ENT_EPSILON = 1e-4\n",
    "N_EXPERT_TRAJECTORY = 1000\n",
    "SEED = 42\n",
    "MAX_ENT_SEED = 712\n",
    "EXPERT_TRAJ_SEED = 1233\n",
    "\n",
    "# bernoulli bandit setup\n",
    "action_space = spaces.Discrete(NUM_ACTIONS)\n",
    "prior_function = jax.tree_util.Partial(lambda key, _: jax.random.uniform(key, shape=(NUM_ACTIONS,))) # uniform prior\n",
    "reward_dist_fn = jax.tree_util.Partial(lambda key, means, _, action: jax.random.bernoulli(key, means[action]).astype(jnp.float32))\n",
    "best_action_value_fn = jax.tree_util.Partial(lambda means, _: (means.argmax(), means.max()))\n",
    "reward_mean_fn = jax.tree_util.Partial(lambda means, _, action: means[action])\n",
    "mutli_armed_bandit = BayesStochasticBandit(action_space, prior_function, reward_dist_fn, reward_mean_fn, best_action_value_fn)\n",
    "\n",
    "# search over langevin learning rate, batch size, and updates per step\n",
    "feature_fn = jax.tree_util.Partial(lambda obs, action: jax.nn.one_hot(action, NUM_ACTIONS))\n",
    "\n",
    "reward_model = LinearDiscreteRewardModel(n_actions=NUM_ACTIONS,\n",
    "                                        params_dim=NUM_ACTIONS,\n",
    "                                        feature_fn=feature_fn,\n",
    "                                        dist=\"bernoulli\")\n",
    "\n",
    "max_ent_ts_train = make_max_ent_thompson_sampling(env=mutli_armed_bandit,\n",
    "                                          reward_model=reward_model,\n",
    "                                          num_envs=NUM_ENVS,\n",
    "                                          total_steps=NUM_STEPS,\n",
    "                                          langevin_batch_size=B_SIZE,\n",
    "                                          langevin_updates_per_step=UPDATES_PER_STEP,\n",
    "                                          max_ent_prior_n_samples=MAX_ENT_SAMPLES,\n",
    "                                          max_ent_steps=MAX_ENT_STEPS,)\n",
    "\n",
    "\n",
    "expert_trajectories = generate_optimal_trajectories(jax.random.PRNGKey(EXPERT_TRAJ_SEED),\n",
    "                                                    mutli_armed_bandit,\n",
    "                                                    N_EXPERT_TRAJECTORY,\n",
    "                                                    1,\n",
    "                                                    None)\n",
    "\n",
    "langevin_learning_rates = jnp.array([1e-2, 5e-2, 1e-3, 2.5e-4])\n",
    "max_ent_lambdas = jnp.array([0.1, 1., 10., 50., 100.])\n",
    "expert_betas = jnp.array([0.1, 1., 3., 10.])\n",
    "env_rngs = jax.random.split(jax.random.PRNGKey(SEED), 5)\n",
    "\n",
    "jit_max_ent_train_ts_hyper = jax.vmap(\n",
    "  jax.vmap(\n",
    "    jax.vmap(\n",
    "      jax.vmap(jax.jit(max_ent_ts_train),\n",
    "               in_axes=(None, None, None, None, None, None, None, 0)\n",
    "      ),\n",
    "      in_axes=(None, None, None, None, None, None, 0, None),\n",
    "    ),\n",
    "    in_axes=(None, None, None, None, 0, None, None, None)\n",
    "  ),\n",
    "  in_axes=(None, 0, None, None, None, None, None, None)\n",
    "  )\n",
    "\n",
    "jax.config.update(\"jax_disable_jit\", False)\n",
    "\n",
    "state, max_ent_state, hyper_metrics = jit_max_ent_train_ts_hyper(jax.random.PRNGKey(MAX_ENT_SEED),\n",
    "                                                                  env_rngs,\n",
    "                                                                  expert_trajectories,\n",
    "                                                                  MAX_ENT_EPSILON,\n",
    "                                                                  max_ent_lambdas,\n",
    "                                                                  MAX_ENT_LR,\n",
    "                                                                  expert_betas,\n",
    "                                                                  langevin_learning_rates) # shape: (n_rngs, n_lambdas, n_betas, n_lrs, n_steps, n_envs ...)\n",
    "bayes_regret = (hyper_metrics['optimal_value'] - hyper_metrics['reward_mean']).mean(axis=-1).sum(axis=-1).mean(axis=0) # shape: (n_lambdas, n_betas, n_lrs)"
   ]
  },
  {
   "cell_type": "code",
   "execution_count": null,
   "metadata": {},
   "outputs": [
    {
     "data": {
      "image/png": "[encoded data removed]",
      "text/plain": [
       "<Figure size 1500x300 with 6 Axes>"
      ]
     },
     "metadata": {},
     "output_type": "display_data"
    }
   ],
   "source": [
    "# plot results based on lambda, learning rate, and beta\n",
    "fig, axes = plt.subplots(1, 3, figsize=(15, 3))\n",
    "ax = axes[0]\n",
    "ax.set_ylabel(\"Langevin Learning Rate\")\n",
    "ax.set_xlabel(\"Lambda\")\n",
    "ax.set_xticks(range(len(max_ent_lambdas)))\n",
    "ax.set_xticklabels(max_ent_lambdas)\n",
    "ax.set_yticks(range(len(langevin_learning_rates)))\n",
    "ax.set_yticklabels(langevin_learning_rates)\n",
    "# # add legend\n",
    "cbar = ax.figure.colorbar(ax.imshow(bayes_regret.mean(axis=1).T, cmap='hot', interpolation='nearest'))\n",
    "\n",
    "ax = axes[1]\n",
    "ax.set_ylabel(\"Expert Beta\")\n",
    "ax.set_xlabel(\"Lambda\")\n",
    "ax.set_xticks(range(len(max_ent_lambdas)))\n",
    "ax.set_xticklabels(max_ent_lambdas)\n",
    "ax.set_yticks(range(len(expert_betas)))\n",
    "ax.set_yticklabels(expert_betas)\n",
    "# ax.imshow(results.mean(axis=1), cmap='hot', interpolation='nearest')\n",
    "# # add legend\n",
    "cbar = ax.figure.colorbar(ax.imshow(bayes_regret.mean(axis=2).T, cmap='hot', interpolation='nearest'))\n",
    "\n",
    "ax = axes[2]\n",
    "ax.set_ylabel(\"Expert Beta\")\n",
    "ax.set_xlabel(\"Langevin Learning Rate\")\n",
    "ax.set_xticks(range(len(langevin_learning_rates)))\n",
    "ax.set_xticklabels(langevin_learning_rates)\n",
    "ax.set_yticks(range(len(expert_betas)))\n",
    "ax.set_yticklabels(expert_betas)\n",
    "# ax.imshow(results.mean(axis=1), cmap='hot', interpolation='nearest')\n",
    "# # add legend\n",
    "cbar = ax.figure.colorbar(ax.imshow(bayes_regret.mean(axis=0), cmap='hot', interpolation='nearest'))\n",
    "\n",
    "plt.show()"
   ]
  },
  {
   "cell_type": "markdown",
   "metadata": {},
   "source": [
    "## Final Hyperparams"
   ]
  },
  {
   "cell_type": "code",
   "execution_count": null,
   "metadata": {},
   "outputs": [],
   "source": [
    "MAX_ENT_LAMBDA = 1. # We might increase it for more complex envs\n",
    "MAX_ENT_LR = 1e-2\n",
    "MAX_ENT_STEPS = 1000\n",
    "MAX_ENT_SAMPLES = 1024\n",
    "MAX_ENT_EPSILON = 1e-4\n",
    "\n",
    "EXPERT_BETA = 10.\n",
    "\n",
    "LANGEVIN_B_SIZE = 1024\n",
    "LANGEVIN_UPDATES_PER_STEP = 5\n",
    "LANGEVIN_LEARNING_RATE = 0.05\n",
    "\n",
    "# logging.info(f\"Bayes regret for lambda: {MAX_ENT_LAMBDA}, langevin learning rate: {LANGEVIN_LEARNING_RATE}, expert beta: {EXPERT_BETA} is {bayes_regret[1,3,1]}\")"
   ]
  },
  {
   "cell_type": "markdown",
   "metadata": {},
   "source": [
    "## Expert Entropy and Episodes Effect"
   ]
  },
  {
   "cell_type": "markdown",
   "metadata": {},
   "source": [
    "### Environment"
   ]
  },
  {
   "cell_type": "code",
   "execution_count": null,
   "metadata": {},
   "outputs": [],
   "source": [
    "NUM_ACTIONS = 8\n",
    "NUM_ENVS = 256\n",
    "NUM_STEPS = 1500\n",
    "NUM_PRIORS = 512\n",
    "EXPERT_N_TRAJECTORY = 1000\n",
    "HORIZON = 1\n",
    "\n",
    "ENV_SEED = 42\n",
    "MAX_ENT_SEED = 512\n",
    "SETTING_SEED = 2048\n",
    "\n",
    "rng = PRNGSequence(SETTING_SEED)\n",
    "\n",
    "alpha_betas = jax.random.beta(next(rng), 1. , 1. ,(NUM_PRIORS, NUM_ACTIONS, 2)) * 4\n",
    "\n",
    "action_space = spaces.Discrete(NUM_ACTIONS)\n",
    "def prior_function(key, i: Optional[int] = 0):\n",
    "  return jax.random.beta(key, alpha_betas[i, :, 0], alpha_betas[i, :, 1])\n",
    "\n",
    "prior_function = jax.tree_util.Partial(prior_function)\n",
    "reward_dist_fn = jax.tree_util.Partial(lambda key, means, _, action: jax.random.bernoulli(key, means[action]).astype(jnp.float32))\n",
    "best_action_value_fn = jax.tree_util.Partial(lambda means, _: (means.argmax(), means.max()))\n",
    "reward_mean_fn = jax.tree_util.Partial(lambda means, _, action: means[action])\n",
    "mutli_armed_bandit = BayesStochasticBandit(action_space, prior_function, reward_dist_fn, reward_mean_fn, best_action_value_fn)"
   ]
  },
  {
   "cell_type": "markdown",
   "metadata": {},
   "source": [
    "### Generate Expert Trajectories"
   ]
  },
  {
   "cell_type": "code",
   "execution_count": null,
   "metadata": {},
   "outputs": [],
   "source": [
    "\n",
    "expert_trajectories = jax.vmap(generate_optimal_trajectories, in_axes=(None, None, None, None, 0))(\n",
    "    next(rng), mutli_armed_bandit, EXPERT_N_TRAJECTORY, 1, jnp.arange(alpha_betas.shape[0])\n",
    ")"
   ]
  },
  {
   "cell_type": "code",
   "execution_count": null,
   "metadata": {},
   "outputs": [],
   "source": [
    "# calculate the entropy of each expert trajectory\n",
    "epsilon = 1e-8\n",
    "entropy_fn = lambda exp_traj: - jax.vmap(lambda p: p * jnp.log2(p+epsilon))(jnp.bincount(exp_traj.action.flatten(), length=NUM_ACTIONS) / EXPERT_N_TRAJECTORY).sum()\n",
    "expert_entropies = jax.vmap(entropy_fn)(expert_trajectories)\n"
   ]
  },
  {
   "cell_type": "code",
   "execution_count": null,
   "metadata": {},
   "outputs": [
    {
     "data": {
      "image/png": "[encoded data removed]",
      "text/plain": [
       "<Figure size 640x480 with 1 Axes>"
      ]
     },
     "metadata": {},
     "output_type": "display_data"
    }
   ],
   "source": [
    "plt.hist(expert_entropies, bins=100)\n",
    "plt.show()"
   ]
  },
  {
   "cell_type": "markdown",
   "metadata": {},
   "source": [
    "### No Prior Thompson Sampling"
   ]
  },
  {
   "cell_type": "code",
   "execution_count": null,
   "metadata": {},
   "outputs": [],
   "source": [
    "jax.config.update(\"jax_disable_jit\", False)\n",
    "\n",
    "feature_fn = jax.tree_util.Partial(lambda obs, action: jax.nn.one_hot(action, NUM_ACTIONS))\n",
    "\n",
    "reward_model = LinearDiscreteRewardModel(n_actions=NUM_ACTIONS,\n",
    "                                        params_dim=NUM_ACTIONS,\n",
    "                                        feature_fn=feature_fn,\n",
    "                                        dist=\"bernoulli\")\n",
    "\n",
    "ts_train = make_thompson_sampling(env=mutli_armed_bandit,\n",
    "                                  reward_model=reward_model,\n",
    "                                  num_envs = NUM_ENVS,\n",
    "                                  total_steps=NUM_STEPS,\n",
    "                                  langevin_batch_size=LANGEVIN_B_SIZE,\n",
    "                                  langevin_updates_per_step=LANGEVIN_UPDATES_PER_STEP)\n",
    "\n",
    "state, no_prior_metrics = jax.vmap(jax.jit(ts_train), in_axes=(None, None, 0))(\n",
    "    jax.random.PRNGKey(ENV_SEED), LANGEVIN_LEARNING_RATE, jnp.arange(alpha_betas.shape[0])\n",
    ")  # shape: (n_priors, n_steps, n_envs, ...)\n",
    "\n",
    "no_prior_bayes_regret = (no_prior_metrics['optimal_value'] - no_prior_metrics['reward_mean']).mean(axis=-1).cumsum(axis=-1)"
   ]
  },
  {
   "cell_type": "markdown",
   "metadata": {},
   "source": [
    "### True Prior Langevin Thompson Sampling"
   ]
  },
  {
   "cell_type": "code",
   "execution_count": null,
   "metadata": {},
   "outputs": [],
   "source": [
    "true_prior_log_pdf = jax.tree_util.Partial(lambda params, i: jax.scipy.stats.beta.logpdf(params['params']['param'], alpha_betas[i, :, 0], alpha_betas[i, :, 1]).sum(axis=-1))\n",
    "reward_model = LinearDiscreteRewardModel(n_actions=NUM_ACTIONS,\n",
    "                                        params_dim=NUM_ACTIONS,\n",
    "                                        feature_fn=feature_fn,\n",
    "                                        dist=\"bernoulli\")\n",
    "langevin_true_prior_ts_train = make_thompson_sampling(env=mutli_armed_bandit,\n",
    "                                                      reward_model=reward_model,\n",
    "                                                      num_envs = NUM_ENVS,\n",
    "                                                      total_steps=NUM_STEPS,\n",
    "                                                      langevin_batch_size=LANGEVIN_B_SIZE,\n",
    "                                                      langevin_updates_per_step=LANGEVIN_UPDATES_PER_STEP,\n",
    "                                                      prior_log_pdf=true_prior_log_pdf)\n",
    "\n",
    "state, langevin_true_prior_metrics = jax.vmap(jax.jit(langevin_true_prior_ts_train), in_axes=(None, None, 0))(\n",
    "    jax.random.PRNGKey(ENV_SEED), LANGEVIN_LEARNING_RATE, jnp.arange(alpha_betas.shape[0])\n",
    ")\n",
    "\n",
    "langevin_true_bayes_regret = (langevin_true_prior_metrics['optimal_value'] - langevin_true_prior_metrics['reward_mean']).mean(axis=-1).cumsum(axis=-1)"
   ]
  },
  {
   "cell_type": "markdown",
   "metadata": {},
   "source": [
    "### True Prior True Thompson Sampling"
   ]
  },
  {
   "cell_type": "code",
   "execution_count": null,
   "metadata": {},
   "outputs": [],
   "source": [
    "prior_alpha_betas = lambda i: alpha_betas[i, :, :]\n",
    "true_prior_ts_train = make_bernoulli_thompson_sampling(env=mutli_armed_bandit,\n",
    "                                                        num_envs = NUM_ENVS,\n",
    "                                                        total_steps=NUM_STEPS,\n",
    "                                                        prior_alpha_betas=prior_alpha_betas)\n",
    "\n",
    "state, true_prior_metrics = jax.vmap(jax.jit(true_prior_ts_train), in_axes=(None, 0))(\n",
    "    jax.random.PRNGKey(ENV_SEED), jnp.arange(alpha_betas.shape[0])\n",
    ")\n",
    "\n",
    "true_prior_bayes_regret = (true_prior_metrics['optimal_value'] - true_prior_metrics['reward_mean']).mean(axis=-1).cumsum(axis=-1)"
   ]
  },
  {
   "cell_type": "markdown",
   "metadata": {},
   "source": [
    "### Max Entropy Thompson Sampling"
   ]
  },
  {
   "cell_type": "code",
   "execution_count": null,
   "metadata": {},
   "outputs": [],
   "source": [
    "from experior.bandit_agents import make_max_ent_thompson_sampling\n",
    "jax.config.update(\"jax_disable_jit\", False)\n",
    "reward_model = LinearDiscreteRewardModel(n_actions=NUM_ACTIONS,\n",
    "                                        params_dim=NUM_ACTIONS,\n",
    "                                        feature_fn=feature_fn,\n",
    "                                        dist=\"bernoulli\")\n",
    "max_ent_ts_train = make_max_ent_thompson_sampling(env=mutli_armed_bandit,\n",
    "                                                  reward_model=reward_model,\n",
    "                                                  num_envs=NUM_ENVS,\n",
    "                                                  total_steps=NUM_STEPS,\n",
    "                                                  langevin_batch_size=LANGEVIN_B_SIZE,\n",
    "                                                  langevin_updates_per_step=LANGEVIN_UPDATES_PER_STEP,\n",
    "                                                  max_ent_prior_n_samples=MAX_ENT_SAMPLES,\n",
    "                                                  max_ent_steps=MAX_ENT_STEPS)\n",
    "state, max_ent_state, max_ent_metrics = (\n",
    "  jax.vmap(jax.jit(max_ent_ts_train), in_axes=(None, None, 0, None, None, None, None, None, 0))(\n",
    "    jax.random.PRNGKey(MAX_ENT_SEED),\n",
    "    jax.random.PRNGKey(ENV_SEED),\n",
    "    expert_trajectories,\n",
    "    MAX_ENT_EPSILON,\n",
    "    MAX_ENT_LAMBDA,\n",
    "    MAX_ENT_LR,\n",
    "    EXPERT_BETA,\n",
    "    LANGEVIN_LEARNING_RATE,\n",
    "    jnp.arange(alpha_betas.shape[0])\n",
    ")\n",
    ")"
   ]
  },
  {
   "cell_type": "code",
   "execution_count": null,
   "metadata": {},
   "outputs": [],
   "source": [
    "max_ent_bayes_regret = (max_ent_metrics['optimal_value'] - max_ent_metrics['reward_mean']).mean(axis=-1).cumsum(axis=-1)"
   ]
  },
  {
   "cell_type": "markdown",
   "metadata": {},
   "source": [
    "## Plot the Results"
   ]
  },
  {
   "cell_type": "code",
   "execution_count": 51,
   "metadata": {},
   "outputs": [],
   "source": [
    "# load the results if you don't want to run the experiments again\n",
    "results = jnp.load(\"output/multi_armed_results.npz\")\n",
    "langevin_true_bayes_regret = results['langevin_true_bayes_regret']\n",
    "no_prior_bayes_regret = results['no_prior_bayes_regret']\n",
    "max_ent_bayes_regret = results['max_ent_bayes_regret']\n",
    "expert_entropies = results['expert_entropies']\n",
    "\n",
    "# detect outliers\n",
    "indices = langevin_true_bayes_regret[:, -1] <= (expert_entropies * 20 + 25)\n",
    "expert_entropies = expert_entropies[indices]\n",
    "langevin_true_bayes_regret = langevin_true_bayes_regret[indices]\n",
    "no_prior_bayes_regret = no_prior_bayes_regret[indices]\n",
    "max_ent_bayes_regret = max_ent_bayes_regret[indices]"
   ]
  },
  {
   "cell_type": "code",
   "execution_count": 52,
   "metadata": {},
   "outputs": [
    {
     "data": {
      "text/plain": [
       "0.916015625"
      ]
     },
     "execution_count": 52,
     "metadata": {},
     "output_type": "execute_result"
    }
   ],
   "source": [
    "indices.mean()"
   ]
  },
  {
   "cell_type": "code",
   "execution_count": 53,
   "metadata": {},
   "outputs": [],
   "source": [
    "import matplotlib as mpl\n",
    "from experior.utils import latexify, FIG_WIDTH, GOLDEN_RATIO, COLORS, FONT_SIZE, LEGEND_SIZE\n",
    "mpl.use('pdf')"
   ]
  },
  {
   "cell_type": "code",
   "execution_count": 56,
   "metadata": {},
   "outputs": [],
   "source": [
    "latexify(FIG_WIDTH, FIG_WIDTH * GOLDEN_RATIO / 2,\n",
    "         font_size=FONT_SIZE, legend_size=LEGEND_SIZE, labelsize=LEGEND_SIZE)\n",
    "fig, axes = plt.subplots(1, 2, figsize=(FIG_WIDTH, FIG_WIDTH * GOLDEN_RATIO / 2))\n",
    "marker_size = 10\n",
    "\n",
    "axis = axes[0]\n",
    "axis.scatter(expert_entropies, max_ent_bayes_regret[:, -1], label=\"Max-Entropy Prior\", s=marker_size, marker=\"v\", c=COLORS[\"blue\"])\n",
    "axis.scatter(expert_entropies, langevin_true_bayes_regret[:, -1], label=\"True Prior\", s=marker_size, marker=\"x\", c=COLORS[\"red\"])\n",
    "axis.set_ylabel(\"Bayes Regret\")\n",
    "axis.set_xlabel(\"Entropy of Optimal Action\")\n",
    "axis = axes[1]\n",
    "axis.scatter(expert_entropies, no_prior_bayes_regret[:, -1], label=\"Uniform Prior\", s=marker_size, marker=\"^\", c=COLORS[\"green\"])\n",
    "axis.scatter(expert_entropies, langevin_true_bayes_regret[:, -1], label=\"True Prior\", s=marker_size, marker=\"x\", c=COLORS[\"red\"])\n",
    "axis.set_ylabel(\"Bayes Regret\")\n",
    "axis.set_xlabel(\"Entropy of Optimal Action\")\n",
    "\n",
    "handles, labels = axes[1].get_legend_handles_labels()\n",
    "handles += [axes[0].get_legend_handles_labels()[0][0]]\n",
    "labels += [axes[0].get_legend_handles_labels()[1][0]]\n",
    "fig.legend(handles[::-1], labels[::-1], loc='upper center', ncol=3)\n",
    "plt.subplots_adjust(left=0.06, bottom=0.2, right=0.97, top=0.85, wspace=0.2)\n",
    "fig.savefig('output/multi_armed_results.pdf')"
   ]
  },
  {
   "cell_type": "code",
   "execution_count": null,
   "metadata": {},
   "outputs": [],
   "source": []
  }
 ],
 "metadata": {
  "kernelspec": {
   "display_name": "jax-env",
   "language": "python",
   "name": "jax-env"
  },
  "language_info": {
   "codemirror_mode": {
    "name": "ipython",
    "version": 3
   },
   "file_extension": ".py",
   "mimetype": "text/x-python",
   "name": "python",
   "nbconvert_exporter": "python",
   "pygments_lexer": "ipython3",
   "version": "3.9.12"
  }
 },
 "nbformat": 4,
 "nbformat_minor": 2
}
