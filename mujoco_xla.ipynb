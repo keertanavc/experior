{
 "cells": [
  {
   "cell_type": "code",
   "execution_count": 29,
   "metadata": {},
   "outputs": [
    {
     "name": "stdout",
     "output_type": "stream",
     "text": [
      "The autoreload extension is already loaded. To reload it, use:\n",
      "  %reload_ext autoreload\n"
     ]
    }
   ],
   "source": [
    "import jax \n",
    "import jax.random as random\n",
    "\n",
    "import brax\n",
    "from brax import envs\n",
    "from experior.envs import BraxGymnaxWrapper, ClipAction\n",
    "from experior.utils import moving_average\n",
    "from experior.rl_agents.utils import ContinuousActorCritic\n",
    "from experior.rl_agents import make_continuous_ppo_train\n",
    "%load_ext autoreload\n",
    "%autoreload 2"
   ]
  },
  {
   "cell_type": "code",
   "execution_count": 30,
   "metadata": {},
   "outputs": [],
   "source": [
    "from experior.envs import ContinuousMountainCar"
   ]
  },
  {
   "cell_type": "code",
   "execution_count": null,
   "metadata": {},
   "outputs": [],
   "source": []
  },
  {
   "cell_type": "code",
   "execution_count": null,
   "metadata": {},
   "outputs": [],
   "source": []
  },
  {
   "cell_type": "code",
   "execution_count": null,
   "metadata": {},
   "outputs": [],
   "source": []
  },
  {
   "cell_type": "markdown",
   "metadata": {},
   "source": [
    "## Environment"
   ]
  },
  {
   "cell_type": "code",
   "execution_count": 41,
   "metadata": {},
   "outputs": [],
   "source": [
    "# Humanoid environment\n",
    "env = ClipAction(BraxGymnaxWrapper('humanoid'), low=-1.0, high=1.0)\n",
    "#env = ContinuousMountainCar()"
   ]
  },
  {
   "cell_type": "markdown",
   "metadata": {},
   "source": [
    "## PPO"
   ]
  },
  {
   "cell_type": "code",
   "execution_count": 51,
   "metadata": {},
   "outputs": [],
   "source": [
    "ppo_config = {\n",
    "  \"learning_rate\": 2.5e-4,\n",
    "  \"steps\": 1e5,\n",
    "  \"train_frequency\": 128,\n",
    "  \"num_envs\": 3,\n",
    "  \"num_actors\": 7,\n",
    "  \"max_grad_norm\": 0.5,\n",
    "  \"epochs_per_iteration\": 4,\n",
    "  \"num_minibatches\": 4,\n",
    "  \"ent_coef\": 0.01,\n",
    "}"
   ]
  },
  {
   "cell_type": "code",
   "execution_count": 54,
   "metadata": {},
   "outputs": [],
   "source": [
    "actor_critic_network = ContinuousActorCritic(#\n",
    "    action_dim=17,\n",
    "    activation='tanh'\n",
    ")\n",
    "\n",
    "ppo_train = make_continuous_ppo_train(\n",
    "    env=env,\n",
    "    actor_critic_network=actor_critic_network,\n",
    "    **ppo_config\n",
    ")"
   ]
  },
  {
   "cell_type": "code",
   "execution_count": 55,
   "metadata": {},
   "outputs": [
    {
     "ename": "UnexpectedTracerError",
     "evalue": "Encountered an unexpected tracer. A function transformed by JAX had a side effect, allowing for a reference to an intermediate value with type float32[1,7,17] wrapped in a BatchTracer to escape the scope of the transformation.\nJAX transformations require that functions explicitly return their outputs, and disallow saving intermediate values to global state.\nTo catch the leak earlier, try setting the environment variable JAX_CHECK_TRACER_LEAKS or using the `jax.checking_leaks` context manager.Detail: Different traces at same level: Traced<ShapedArray(float32[1,7,17])>with<BatchTrace(level=4/0)> with\n  val = Traced<ShapedArray(float32[1,1,7,17])>with<DynamicJaxprTrace(level=3/0)>\n  batch_dim = 0, BatchTrace(level=4/0)\nSee https://jax.readthedocs.io/en/latest/errors.html#jax.errors.UnexpectedTracerError",
     "output_type": "error",
     "traceback": [
      "\u001b[0;31m---------------------------------------------------------------------------\u001b[0m",
      "\u001b[0;31mUnexpectedTracerError\u001b[0m                     Traceback (most recent call last)",
      "Cell \u001b[0;32mIn[55], line 3\u001b[0m\n\u001b[1;32m      1\u001b[0m jax\u001b[38;5;241m.\u001b[39mconfig\u001b[38;5;241m.\u001b[39mupdate(\u001b[38;5;124m\"\u001b[39m\u001b[38;5;124mjax_disable_jit\u001b[39m\u001b[38;5;124m\"\u001b[39m, \u001b[38;5;28;01mFalse\u001b[39;00m)\n\u001b[1;32m      2\u001b[0m ppo_train \u001b[38;5;241m=\u001b[39m jax\u001b[38;5;241m.\u001b[39mjit(ppo_train)\n\u001b[0;32m----> 3\u001b[0m state, ppo_output \u001b[38;5;241m=\u001b[39m \u001b[43mppo_train\u001b[49m\u001b[43m(\u001b[49m\u001b[43mjax\u001b[49m\u001b[38;5;241;43m.\u001b[39;49m\u001b[43mrandom\u001b[49m\u001b[38;5;241;43m.\u001b[39;49m\u001b[43mPRNGKey\u001b[49m\u001b[43m(\u001b[49m\u001b[38;5;241;43m42\u001b[39;49m\u001b[43m)\u001b[49m\u001b[43m)\u001b[49m\n",
      "    \u001b[0;31m[... skipping hidden 12 frame]\u001b[0m\n",
      "File \u001b[0;32m~/experior/experior/rl_agents/continuous_ppo.py:254\u001b[0m, in \u001b[0;36mmake_continuous_ppo_train.<locals>.train\u001b[0;34m(rng)\u001b[0m\n\u001b[1;32m    252\u001b[0m runner_state \u001b[38;5;241m=\u001b[39m (train_state, env_state, obsv, rng_)\n\u001b[1;32m    253\u001b[0m update_nums \u001b[38;5;241m=\u001b[39m steps \u001b[38;5;241m/\u001b[39m\u001b[38;5;241m/\u001b[39m train_frequency \u001b[38;5;241m/\u001b[39m\u001b[38;5;241m/\u001b[39m num_actors \u001b[38;5;241m+\u001b[39m \u001b[38;5;241m1\u001b[39m\n\u001b[0;32m--> 254\u001b[0m runner_state, output \u001b[38;5;241m=\u001b[39m \u001b[43mjax\u001b[49m\u001b[38;5;241;43m.\u001b[39;49m\u001b[43mlax\u001b[49m\u001b[38;5;241;43m.\u001b[39;49m\u001b[43mscan\u001b[49m\u001b[43m(\u001b[49m\n\u001b[1;32m    255\u001b[0m \u001b[43m    \u001b[49m\u001b[43m_train_step\u001b[49m\u001b[43m,\u001b[49m\u001b[43m \u001b[49m\u001b[43mrunner_state\u001b[49m\u001b[43m,\u001b[49m\u001b[43m \u001b[49m\u001b[38;5;28;43;01mNone\u001b[39;49;00m\u001b[43m,\u001b[49m\u001b[43m \u001b[49m\u001b[43mupdate_nums\u001b[49m\n\u001b[1;32m    256\u001b[0m \u001b[43m\u001b[49m\u001b[43m)\u001b[49m  \u001b[38;5;66;03m# shape: (update_nums, train_frequency, num_envs, num_actors, ...)\u001b[39;00m\n\u001b[1;32m    257\u001b[0m \u001b[38;5;28;01mreturn\u001b[39;00m runner_state, output\n",
      "    \u001b[0;31m[... skipping hidden 9 frame]\u001b[0m\n",
      "File \u001b[0;32m~/experior/experior/rl_agents/continuous_ppo.py:110\u001b[0m, in \u001b[0;36mmake_continuous_ppo_train.<locals>.train.<locals>._train_step\u001b[0;34m(runner_state, unused)\u001b[0m\n\u001b[1;32m    107\u001b[0m     runner_state \u001b[38;5;241m=\u001b[39m (train_state, env_state, obsv, rng)\n\u001b[1;32m    108\u001b[0m     \u001b[38;5;28;01mreturn\u001b[39;00m runner_state, transition\n\u001b[0;32m--> 110\u001b[0m runner_state, traj_batch \u001b[38;5;241m=\u001b[39m \u001b[43mjax\u001b[49m\u001b[38;5;241;43m.\u001b[39;49m\u001b[43mlax\u001b[49m\u001b[38;5;241;43m.\u001b[39;49m\u001b[43mscan\u001b[49m\u001b[43m(\u001b[49m\n\u001b[1;32m    111\u001b[0m \u001b[43m    \u001b[49m\u001b[43m_env_step\u001b[49m\u001b[43m,\u001b[49m\u001b[43m \u001b[49m\u001b[43mrunner_state\u001b[49m\u001b[43m,\u001b[49m\u001b[43m \u001b[49m\u001b[38;5;28;43;01mNone\u001b[39;49;00m\u001b[43m,\u001b[49m\u001b[43m \u001b[49m\u001b[43mtrain_frequency\u001b[49m\n\u001b[1;32m    112\u001b[0m \u001b[43m\u001b[49m\u001b[43m)\u001b[49m  \u001b[38;5;66;03m# traj_batch shape: (train_frequency, num_envs, num_actors, ...)\u001b[39;00m\n\u001b[1;32m    114\u001b[0m \u001b[38;5;66;03m# CALCULATE ADVANTAGE\u001b[39;00m\n\u001b[1;32m    115\u001b[0m train_state, env_state, last_obs, rng \u001b[38;5;241m=\u001b[39m runner_state\n",
      "    \u001b[0;31m[... skipping hidden 9 frame]\u001b[0m\n",
      "File \u001b[0;32m~/experior/experior/rl_agents/continuous_ppo.py:90\u001b[0m, in \u001b[0;36mmake_continuous_ppo_train.<locals>.train.<locals>._train_step.<locals>._env_step\u001b[0;34m(runner_state, unused)\u001b[0m\n\u001b[1;32m     86\u001b[0m pi, value \u001b[38;5;241m=\u001b[39m jax\u001b[38;5;241m.\u001b[39mvmap(\u001b[38;5;28;01mlambda\u001b[39;00m p, obs: train_state\u001b[38;5;241m.\u001b[39mapply_fn(p, obs))(\n\u001b[1;32m     87\u001b[0m     train_state\u001b[38;5;241m.\u001b[39mparams, last_obs\n\u001b[1;32m     88\u001b[0m )  \u001b[38;5;66;03m# shape: (num_envs, num_actors, action_dim), (num_envs, num_actors, 1)\u001b[39;00m\n\u001b[1;32m     89\u001b[0m \u001b[38;5;66;03m# TODO make sure it's correct\u001b[39;00m\n\u001b[0;32m---> 90\u001b[0m action \u001b[38;5;241m=\u001b[39m \u001b[43mpi\u001b[49m\u001b[38;5;241;43m.\u001b[39;49m\u001b[43msample\u001b[49m\u001b[43m(\u001b[49m\u001b[43mseed\u001b[49m\u001b[38;5;241;43m=\u001b[39;49m\u001b[43mrng_\u001b[49m\u001b[43m)\u001b[49m  \u001b[38;5;66;03m# shape: (num_envs, num_actors)\u001b[39;00m\n\u001b[1;32m     91\u001b[0m \u001b[38;5;28mprint\u001b[39m(action\u001b[38;5;241m.\u001b[39mshape)\n\u001b[1;32m     92\u001b[0m log_prob \u001b[38;5;241m=\u001b[39m pi\u001b[38;5;241m.\u001b[39mlog_prob(action)  \u001b[38;5;66;03m# shape: (num_envs, num_actors)\u001b[39;00m\n",
      "File \u001b[0;32m~/anaconda3/envs/jax/lib/python3.9/site-packages/distrax/_src/distributions/distribution.py:160\u001b[0m, in \u001b[0;36mDistribution.sample\u001b[0;34m(self, seed, sample_shape)\u001b[0m\n\u001b[1;32m    157\u001b[0m rng, sample_shape \u001b[38;5;241m=\u001b[39m convert_seed_and_sample_shape(seed, sample_shape)\n\u001b[1;32m    158\u001b[0m num_samples \u001b[38;5;241m=\u001b[39m functools\u001b[38;5;241m.\u001b[39mreduce(operator\u001b[38;5;241m.\u001b[39mmul, sample_shape, \u001b[38;5;241m1\u001b[39m)  \u001b[38;5;66;03m# product\u001b[39;00m\n\u001b[0;32m--> 160\u001b[0m samples \u001b[38;5;241m=\u001b[39m \u001b[38;5;28;43mself\u001b[39;49m\u001b[38;5;241;43m.\u001b[39;49m\u001b[43m_sample_n\u001b[49m\u001b[43m(\u001b[49m\u001b[43mrng\u001b[49m\u001b[43m,\u001b[49m\u001b[43m \u001b[49m\u001b[43mnum_samples\u001b[49m\u001b[43m)\u001b[49m\n\u001b[1;32m    161\u001b[0m \u001b[38;5;28;01mreturn\u001b[39;00m jax\u001b[38;5;241m.\u001b[39mtree_util\u001b[38;5;241m.\u001b[39mtree_map(\n\u001b[1;32m    162\u001b[0m     \u001b[38;5;28;01mlambda\u001b[39;00m t: t\u001b[38;5;241m.\u001b[39mreshape(sample_shape \u001b[38;5;241m+\u001b[39m t\u001b[38;5;241m.\u001b[39mshape[\u001b[38;5;241m1\u001b[39m:]), samples)\n",
      "File \u001b[0;32m~/anaconda3/envs/jax/lib/python3.9/site-packages/distrax/_src/distributions/transformed.py:171\u001b[0m, in \u001b[0;36mTransformed._sample_n\u001b[0;34m(self, key, n)\u001b[0m\n\u001b[1;32m    169\u001b[0m \u001b[38;5;250m\u001b[39m\u001b[38;5;124;03m\"\"\"Returns `n` samples.\"\"\"\u001b[39;00m\n\u001b[1;32m    170\u001b[0m x \u001b[38;5;241m=\u001b[39m \u001b[38;5;28mself\u001b[39m\u001b[38;5;241m.\u001b[39mdistribution\u001b[38;5;241m.\u001b[39msample(seed\u001b[38;5;241m=\u001b[39mkey, sample_shape\u001b[38;5;241m=\u001b[39mn)\n\u001b[0;32m--> 171\u001b[0m y \u001b[38;5;241m=\u001b[39m \u001b[43mjax\u001b[49m\u001b[38;5;241;43m.\u001b[39;49m\u001b[43mvmap\u001b[49m\u001b[43m(\u001b[49m\u001b[38;5;28;43mself\u001b[39;49m\u001b[38;5;241;43m.\u001b[39;49m\u001b[43mbijector\u001b[49m\u001b[38;5;241;43m.\u001b[39;49m\u001b[43mforward\u001b[49m\u001b[43m)\u001b[49m\u001b[43m(\u001b[49m\u001b[43mx\u001b[49m\u001b[43m)\u001b[49m\n\u001b[1;32m    172\u001b[0m \u001b[38;5;28;01mreturn\u001b[39;00m y\n",
      "    \u001b[0;31m[... skipping hidden 3 frame]\u001b[0m\n",
      "File \u001b[0;32m~/anaconda3/envs/jax/lib/python3.9/site-packages/distrax/_src/bijectors/chain.py:86\u001b[0m, in \u001b[0;36mChain.forward\u001b[0;34m(self, x)\u001b[0m\n\u001b[1;32m     84\u001b[0m \u001b[38;5;250m\u001b[39m\u001b[38;5;124;03m\"\"\"Computes y = f(x).\"\"\"\u001b[39;00m\n\u001b[1;32m     85\u001b[0m \u001b[38;5;28;01mfor\u001b[39;00m bijector \u001b[38;5;129;01min\u001b[39;00m \u001b[38;5;28mreversed\u001b[39m(\u001b[38;5;28mself\u001b[39m\u001b[38;5;241m.\u001b[39m_bijectors):\n\u001b[0;32m---> 86\u001b[0m   x \u001b[38;5;241m=\u001b[39m \u001b[43mbijector\u001b[49m\u001b[38;5;241;43m.\u001b[39;49m\u001b[43mforward\u001b[49m\u001b[43m(\u001b[49m\u001b[43mx\u001b[49m\u001b[43m)\u001b[49m\n\u001b[1;32m     87\u001b[0m \u001b[38;5;28;01mreturn\u001b[39;00m x\n",
      "File \u001b[0;32m~/anaconda3/envs/jax/lib/python3.9/site-packages/distrax/_src/bijectors/block.py:83\u001b[0m, in \u001b[0;36mBlock.forward\u001b[0;34m(self, x)\u001b[0m\n\u001b[1;32m     81\u001b[0m \u001b[38;5;250m\u001b[39m\u001b[38;5;124;03m\"\"\"Computes y = f(x).\"\"\"\u001b[39;00m\n\u001b[1;32m     82\u001b[0m \u001b[38;5;28mself\u001b[39m\u001b[38;5;241m.\u001b[39m_check_forward_input_shape(x)\n\u001b[0;32m---> 83\u001b[0m \u001b[38;5;28;01mreturn\u001b[39;00m \u001b[38;5;28;43mself\u001b[39;49m\u001b[38;5;241;43m.\u001b[39;49m\u001b[43m_bijector\u001b[49m\u001b[38;5;241;43m.\u001b[39;49m\u001b[43mforward\u001b[49m\u001b[43m(\u001b[49m\u001b[43mx\u001b[49m\u001b[43m)\u001b[49m\n",
      "File \u001b[0;32m~/anaconda3/envs/jax/lib/python3.9/site-packages/distrax/_src/bijectors/scalar_affine.py:103\u001b[0m, in \u001b[0;36mScalarAffine.forward\u001b[0;34m(self, x)\u001b[0m\n\u001b[1;32m    101\u001b[0m batched_scale \u001b[38;5;241m=\u001b[39m jnp\u001b[38;5;241m.\u001b[39mbroadcast_to(\u001b[38;5;28mself\u001b[39m\u001b[38;5;241m.\u001b[39m_scale, batch_shape)\n\u001b[1;32m    102\u001b[0m batched_shift \u001b[38;5;241m=\u001b[39m jnp\u001b[38;5;241m.\u001b[39mbroadcast_to(\u001b[38;5;28mself\u001b[39m\u001b[38;5;241m.\u001b[39m_shift, batch_shape)\n\u001b[0;32m--> 103\u001b[0m \u001b[38;5;28;01mreturn\u001b[39;00m \u001b[43mbatched_scale\u001b[49m\u001b[43m \u001b[49m\u001b[38;5;241;43m*\u001b[39;49m\u001b[43m \u001b[49m\u001b[43mx\u001b[49m \u001b[38;5;241m+\u001b[39m batched_shift\n",
      "File \u001b[0;32m~/anaconda3/envs/jax/lib/python3.9/site-packages/jax/_src/numpy/array_methods.py:743\u001b[0m, in \u001b[0;36m_forward_operator_to_aval.<locals>.op\u001b[0;34m(self, *args)\u001b[0m\n\u001b[1;32m    742\u001b[0m \u001b[38;5;28;01mdef\u001b[39;00m \u001b[38;5;21mop\u001b[39m(\u001b[38;5;28mself\u001b[39m, \u001b[38;5;241m*\u001b[39margs):\n\u001b[0;32m--> 743\u001b[0m   \u001b[38;5;28;01mreturn\u001b[39;00m \u001b[38;5;28;43mgetattr\u001b[39;49m\u001b[43m(\u001b[49m\u001b[38;5;28;43mself\u001b[39;49m\u001b[38;5;241;43m.\u001b[39;49m\u001b[43maval\u001b[49m\u001b[43m,\u001b[49m\u001b[43m \u001b[49m\u001b[38;5;124;43mf\u001b[39;49m\u001b[38;5;124;43m\"\u001b[39;49m\u001b[38;5;124;43m_\u001b[39;49m\u001b[38;5;132;43;01m{\u001b[39;49;00m\u001b[43mname\u001b[49m\u001b[38;5;132;43;01m}\u001b[39;49;00m\u001b[38;5;124;43m\"\u001b[39;49m\u001b[43m)\u001b[49m\u001b[43m(\u001b[49m\u001b[38;5;28;43mself\u001b[39;49m\u001b[43m,\u001b[49m\u001b[43m \u001b[49m\u001b[38;5;241;43m*\u001b[39;49m\u001b[43margs\u001b[49m\u001b[43m)\u001b[49m\n",
      "File \u001b[0;32m~/anaconda3/envs/jax/lib/python3.9/site-packages/jax/_src/numpy/array_methods.py:271\u001b[0m, in \u001b[0;36m_defer_to_unrecognized_arg.<locals>.deferring_binary_op\u001b[0;34m(self, other)\u001b[0m\n\u001b[1;32m    269\u001b[0m args \u001b[38;5;241m=\u001b[39m (other, \u001b[38;5;28mself\u001b[39m) \u001b[38;5;28;01mif\u001b[39;00m swap \u001b[38;5;28;01melse\u001b[39;00m (\u001b[38;5;28mself\u001b[39m, other)\n\u001b[1;32m    270\u001b[0m \u001b[38;5;28;01mif\u001b[39;00m \u001b[38;5;28misinstance\u001b[39m(other, _accepted_binop_types):\n\u001b[0;32m--> 271\u001b[0m   \u001b[38;5;28;01mreturn\u001b[39;00m \u001b[43mbinary_op\u001b[49m\u001b[43m(\u001b[49m\u001b[38;5;241;43m*\u001b[39;49m\u001b[43margs\u001b[49m\u001b[43m)\u001b[49m\n\u001b[1;32m    272\u001b[0m \u001b[38;5;66;03m# Note: don't use isinstance here, because we don't want to raise for\u001b[39;00m\n\u001b[1;32m    273\u001b[0m \u001b[38;5;66;03m# subclasses, e.g. NamedTuple objects that may override operators.\u001b[39;00m\n\u001b[1;32m    274\u001b[0m \u001b[38;5;28;01mif\u001b[39;00m \u001b[38;5;28mtype\u001b[39m(other) \u001b[38;5;129;01min\u001b[39;00m _rejected_binop_types:\n",
      "    \u001b[0;31m[... skipping hidden 5 frame]\u001b[0m\n",
      "File \u001b[0;32m~/anaconda3/envs/jax/lib/python3.9/site-packages/jax/_src/core.py:562\u001b[0m, in \u001b[0;36mTrace.full_raise\u001b[0;34m(self, val)\u001b[0m\n\u001b[1;32m    559\u001b[0m   \u001b[38;5;28;01mraise\u001b[39;00m escaped_tracer_error(\n\u001b[1;32m    560\u001b[0m       val, \u001b[38;5;124mf\u001b[39m\u001b[38;5;124m\"\u001b[39m\u001b[38;5;124mCan\u001b[39m\u001b[38;5;124m'\u001b[39m\u001b[38;5;124mt lift level \u001b[39m\u001b[38;5;132;01m{\u001b[39;00mval\u001b[38;5;132;01m}\u001b[39;00m\u001b[38;5;124m to \u001b[39m\u001b[38;5;132;01m{\u001b[39;00m\u001b[38;5;28mself\u001b[39m\u001b[38;5;132;01m}\u001b[39;00m\u001b[38;5;124m\"\u001b[39m)\n\u001b[1;32m    561\u001b[0m \u001b[38;5;28;01melse\u001b[39;00m:  \u001b[38;5;66;03m# val._trace.level == self.level:\u001b[39;00m\n\u001b[0;32m--> 562\u001b[0m   \u001b[38;5;28;01mraise\u001b[39;00m escaped_tracer_error(\n\u001b[1;32m    563\u001b[0m       val, \u001b[38;5;124mf\u001b[39m\u001b[38;5;124m\"\u001b[39m\u001b[38;5;124mDifferent traces at same level: \u001b[39m\u001b[38;5;132;01m{\u001b[39;00mval\u001b[38;5;132;01m}\u001b[39;00m\u001b[38;5;124m, \u001b[39m\u001b[38;5;132;01m{\u001b[39;00m\u001b[38;5;28mself\u001b[39m\u001b[38;5;132;01m}\u001b[39;00m\u001b[38;5;124m\"\u001b[39m)\n",
      "\u001b[0;31mUnexpectedTracerError\u001b[0m: Encountered an unexpected tracer. A function transformed by JAX had a side effect, allowing for a reference to an intermediate value with type float32[1,7,17] wrapped in a BatchTracer to escape the scope of the transformation.\nJAX transformations require that functions explicitly return their outputs, and disallow saving intermediate values to global state.\nTo catch the leak earlier, try setting the environment variable JAX_CHECK_TRACER_LEAKS or using the `jax.checking_leaks` context manager.Detail: Different traces at same level: Traced<ShapedArray(float32[1,7,17])>with<BatchTrace(level=4/0)> with\n  val = Traced<ShapedArray(float32[1,1,7,17])>with<DynamicJaxprTrace(level=3/0)>\n  batch_dim = 0, BatchTrace(level=4/0)\nSee https://jax.readthedocs.io/en/latest/errors.html#jax.errors.UnexpectedTracerError"
     ]
    }
   ],
   "source": [
    "jax.config.update(\"jax_disable_jit\", False)\n",
    "ppo_train = jax.jit(ppo_train)\n",
    "state, ppo_output = ppo_train(jax.random.PRNGKey(42))"
   ]
  },
  {
   "cell_type": "code",
   "execution_count": 17,
   "metadata": {},
   "outputs": [
    {
     "data": {
      "text/plain": [
       "(244,)"
      ]
     },
     "execution_count": 17,
     "metadata": {},
     "output_type": "execute_result"
    }
   ],
   "source": [
    "env.observation_size"
   ]
  },
  {
   "cell_type": "code",
   "execution_count": null,
   "metadata": {},
   "outputs": [],
   "source": []
  }
 ],
 "metadata": {
  "kernelspec": {
   "display_name": "jax",
   "language": "python",
   "name": "python3"
  },
  "language_info": {
   "codemirror_mode": {
    "name": "ipython",
    "version": 3
   },
   "file_extension": ".py",
   "mimetype": "text/x-python",
   "name": "python",
   "nbconvert_exporter": "python",
   "pygments_lexer": "ipython3",
   "version": "3.9.18"
  }
 },
 "nbformat": 4,
 "nbformat_minor": 2
}
